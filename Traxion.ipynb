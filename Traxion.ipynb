{
  "cells": [
    {
      "cell_type": "markdown",
      "metadata": {
        "id": "7Cl_yvbSGL0H"
      },
      "source": [
        "#TRAXIÓN: PRUEBA TÉCNICA"
      ]
    },
    {
      "cell_type": "markdown",
      "metadata": {
        "id": "RL0a5NZ3Ens0"
      },
      "source": [
        "### Contexto:\n",
        "\n",
        "Se desarrolla una **app móvil** para identificar las razones de **alta rotación de conductores**. La app contiene **quejas** etiquetadas según el **área** (finanzas, RH, y operaciones). La app contiene **variables** como: experiencia de viaje, evaluación del conductor, o cualquier otra que se considere de utilidad y sea sensata."
      ]
    },
    {
      "cell_type": "markdown",
      "source": [],
      "metadata": {
        "id": "V5fVUL1JrtlT"
      }
    },
    {
      "cell_type": "markdown",
      "metadata": {
        "id": "wwDXCb4_GSZi"
      },
      "source": [
        "### Planteamiento:\n",
        "\n",
        "Fruto de la pandemia de COVID hay una fuerte demanda de conductores. La gran mayoría de conductores que renuncian [no cambian de industria]((https://www.trucking.org/news-insights/truth-about-trucking-turnover), sino que cambian de patrón a cambio de incrementos salaries y/o bonos. Según la [CANACAR](https://canacar.com.mx/este-plan-canacar-reducir-deficit-operadores/), en México también tenemos este déficit. La demanda de conductores genera presiones inflacionarias que resultan en \"pirataje de conductores\".\n",
        "\n",
        "De acuerdo a la CANACAR estas son algunas de las principales causas de rotación:\n",
        "\n",
        "*   Sobrecarga laboral y largas jornadas\n",
        "*   Baja remuneración y falta de incentivos\n",
        "*   Escasas oportunidades de capacitación y desarrollo profesional\n",
        "*   Condiciones laborales desfavorables\n",
        "*   Competencia en el mercado y migración de talento\n",
        "\n",
        "Teniendo esto en cuenta, se propone que la aplicación contenga las siguientes\n",
        "variables:\n",
        "\n",
        "Registradas en la app:\n",
        "\n",
        "- ID de la queja\n",
        "- ID del conductor\n",
        "- Fecha y hora en la que se registró la queja\n",
        "- Área de la queja (Finanzas, Recursos Humanos u Operaciones)\n",
        "- Descripción (Texto libre, máximo 250 caracteres)\n",
        "\n",
        "Datos del conductor\n",
        "\n",
        "- ID del conductor\n",
        "- Edad\n",
        "- Años de experiencia en la industria del transporte\n",
        "- Fecha de contratación\n",
        "- Salario\n",
        "- Cantidad de viajes realizados\n",
        "- KM recorridos totales\n",
        "- Tiempo de inactividad total en viajes (en minutos)\n",
        "- Número de incidentes de riesgo (asaltos, robos)\n",
        "- Estado de contrato (Activo, Baja)"
      ]
    },
    {
      "cell_type": "markdown",
      "metadata": {
        "id": "V9jiRO9rl6FY"
      },
      "source": [
        "## Generación de datos"
      ]
    },
    {
      "cell_type": "markdown",
      "source": [
        "### Datos de los conductores"
      ],
      "metadata": {
        "id": "okLwdyFL4ZHY"
      }
    },
    {
      "cell_type": "code",
      "execution_count": null,
      "metadata": {
        "id": "vAyQtjd5mMco"
      },
      "outputs": [],
      "source": [
        "import numpy as np\n",
        "import pandas as pd\n",
        "import datetime as dt\n",
        "from dateutil.relativedelta import relativedelta\n",
        "\n",
        "# Hay entre 4000 y 5000 empleados contratados\n",
        "np.random.seed(42) # Semilla para que la generación sea reproducible\n",
        "n = np.random.randint(4000,5000, size = 1)[0]\n",
        "\n",
        "# Crear el dataframe\n",
        "df = pd.DataFrame()\n",
        "\n",
        "# Edad, 66% entre 32 y 48, 96% entre 24 y 56, 100% entre 20 y 60\n",
        "df['Edad'] = np.random.normal(loc=40, scale=8, size=n)\n",
        "df['Edad'] = np.clip(df['Edad'], 20, 60).astype(int)\n",
        "\n",
        "# Fecha de contratación, depende de la edad\n",
        "def generar_fecha_contratacion(edad):\n",
        "    max = min(edad - 19, 30)\n",
        "    año_contratacion = np.random.uniform(1, max, size = 1)[0]\n",
        "    fecha_contratacion = pd.to_datetime('03/01/2025') - relativedelta(days = int(año_contratacion*365))\n",
        "    return fecha_contratacion\n",
        "\n",
        "df['Fecha contratacion'] = df['Edad']-20\n",
        "df['Fecha contratacion'] = df['Edad'].apply(generar_fecha_contratacion)\n",
        "\n",
        "# Años de experiencia en la industria del transporte, depende de la edad\n",
        "def generar_exp(edad):\n",
        "    max = edad - 19\n",
        "    exp = int(np.random.uniform(0, max, size = 1)[0])\n",
        "    return exp\n",
        "\n",
        "df['Años de experiencia'] = df['Edad'].apply(generar_exp)\n",
        "\n",
        "# Cantidad de viajes realizados, depende de la fecha de contratación\n",
        "def generar_viajes(contratacion):\n",
        "   duracion = (pd.to_datetime('03/01/2025') - contratacion).days\n",
        "   duracion = int(duracion*np.random.uniform(.5, .9, size = 1)[0])\n",
        "   return duracion\n",
        "\n",
        "df['Viajes realizados'] = df['Fecha contratacion'].apply(generar_viajes)\n",
        "\n",
        "# KM recorridos totales, depende de la fecha de contratación\n",
        "df['Km totales recorridos'] = (pd.to_datetime('03/01/2025') - df['Fecha contratacion']).dt.days\n",
        "df['Km totales recorridos'] = (df['Km totales recorridos']*np.random.normal(loc=350, scale=80, size=n)).astype(int)\n",
        "\n",
        "# Tiempo de inactividad, depende de los viajes realizados y sus km totales recorridos\n",
        "df['Tiempo de inactividad total'] = (df['Viajes realizados'] * df['Km totales recorridos'])/(pd.to_datetime('03/01/2025') - df['Fecha contratacion']).dt.days\n",
        "df['Tiempo de inactividad total'] = (1.1 - df['Tiempo de inactividad total']/max(df['Tiempo de inactividad total']))*np.random.normal(loc=60, scale=15, size=n)\n",
        "df['Tiempo de inactividad total'] = (df['Tiempo de inactividad total']*df['Viajes realizados']).astype(int)\n",
        "\n",
        "# Numero de incidentes, depende de los viajes realizados\n",
        "df['Incidentes de peligro'] = (df['Viajes realizados']*np.random.beta(1, 3000, size=n)).astype(int)\n",
        "\n"
      ]
    },
    {
      "cell_type": "markdown",
      "source": [
        "### Comentarios generados por IA"
      ],
      "metadata": {
        "id": "hE4YUHFrcU0o"
      }
    },
    {
      "cell_type": "code",
      "source": [
        "import pandas as pd\n",
        "# Importar los datos con los comentarios\n",
        "comentarios = pd.read_csv('comentarios_texto.csv', encoding ='latin1')\n",
        "\n",
        "# Guardar los comentarios como listas\n",
        "comentarios['Comentarios'] = comentarios['Comentarios'].apply(lambda x: eval(x))\n",
        "\n",
        "# Obtener la longitud de cada listas\n",
        "comentarios['longitud'] = comentarios['Comentarios'].apply(lambda x: len(x))"
      ],
      "metadata": {
        "id": "aSqLFGfsF1WA"
      },
      "execution_count": 61,
      "outputs": []
    },
    {
      "cell_type": "code",
      "source": [
        "comentarios"
      ],
      "metadata": {
        "colab": {
          "base_uri": "https://localhost:8080/",
          "height": 331
        },
        "id": "bQ0Nc3_yLgq0",
        "outputId": "7c8a3de5-d39e-498c-f467-43c83e1ebd44"
      },
      "execution_count": 62,
      "outputs": [
        {
          "output_type": "execute_result",
          "data": {
            "text/plain": [
              "          Area  Positividad Modelo  \\\n",
              "0     Finanzas         0.50  GPT 4   \n",
              "1     Finanzas         0.25  GPT 4   \n",
              "2     Finanzas         0.00  GPT 4   \n",
              "3           RH         0.50  GPT 4   \n",
              "4           RH         0.25  GPT 4   \n",
              "5           RH         0.00  GPT 4   \n",
              "6  Operaciones         0.50  GPT 4   \n",
              "7  Operaciones         0.25  GPT 4   \n",
              "8  Operaciones         0.00  GPT 4   \n",
              "\n",
              "                                         Comentarios  longitud  \n",
              "0  [El pago llegó, pero tardó más de lo esperado,...       225  \n",
              "1  [El pago de esta semana fue más bajo de lo esp...       329  \n",
              "2  [Me descontaron dinero sin explicación, No rec...       335  \n",
              "3  [El supervisor no escucha nuestras preocupacio...       294  \n",
              "4  [El supervisor no escucha nuestras preocupacio...       275  \n",
              "5  [El trato del personal administrativo es pésim...       291  \n",
              "6  [El vehículo asignado tenía fallas mecánicas, ...       316  \n",
              "7  [El vehículo asignado tenía un problema con lo...       330  \n",
              "8  [El viaje estuvo mal planificado, tuve que esp...       299  "
            ],
            "text/html": [
              "\n",
              "  <div id=\"df-e7041aed-4f7f-42a3-9fe8-961181976fae\" class=\"colab-df-container\">\n",
              "    <div>\n",
              "<style scoped>\n",
              "    .dataframe tbody tr th:only-of-type {\n",
              "        vertical-align: middle;\n",
              "    }\n",
              "\n",
              "    .dataframe tbody tr th {\n",
              "        vertical-align: top;\n",
              "    }\n",
              "\n",
              "    .dataframe thead th {\n",
              "        text-align: right;\n",
              "    }\n",
              "</style>\n",
              "<table border=\"1\" class=\"dataframe\">\n",
              "  <thead>\n",
              "    <tr style=\"text-align: right;\">\n",
              "      <th></th>\n",
              "      <th>Area</th>\n",
              "      <th>Positividad</th>\n",
              "      <th>Modelo</th>\n",
              "      <th>Comentarios</th>\n",
              "      <th>longitud</th>\n",
              "    </tr>\n",
              "  </thead>\n",
              "  <tbody>\n",
              "    <tr>\n",
              "      <th>0</th>\n",
              "      <td>Finanzas</td>\n",
              "      <td>0.50</td>\n",
              "      <td>GPT 4</td>\n",
              "      <td>[El pago llegó, pero tardó más de lo esperado,...</td>\n",
              "      <td>225</td>\n",
              "    </tr>\n",
              "    <tr>\n",
              "      <th>1</th>\n",
              "      <td>Finanzas</td>\n",
              "      <td>0.25</td>\n",
              "      <td>GPT 4</td>\n",
              "      <td>[El pago de esta semana fue más bajo de lo esp...</td>\n",
              "      <td>329</td>\n",
              "    </tr>\n",
              "    <tr>\n",
              "      <th>2</th>\n",
              "      <td>Finanzas</td>\n",
              "      <td>0.00</td>\n",
              "      <td>GPT 4</td>\n",
              "      <td>[Me descontaron dinero sin explicación, No rec...</td>\n",
              "      <td>335</td>\n",
              "    </tr>\n",
              "    <tr>\n",
              "      <th>3</th>\n",
              "      <td>RH</td>\n",
              "      <td>0.50</td>\n",
              "      <td>GPT 4</td>\n",
              "      <td>[El supervisor no escucha nuestras preocupacio...</td>\n",
              "      <td>294</td>\n",
              "    </tr>\n",
              "    <tr>\n",
              "      <th>4</th>\n",
              "      <td>RH</td>\n",
              "      <td>0.25</td>\n",
              "      <td>GPT 4</td>\n",
              "      <td>[El supervisor no escucha nuestras preocupacio...</td>\n",
              "      <td>275</td>\n",
              "    </tr>\n",
              "    <tr>\n",
              "      <th>5</th>\n",
              "      <td>RH</td>\n",
              "      <td>0.00</td>\n",
              "      <td>GPT 4</td>\n",
              "      <td>[El trato del personal administrativo es pésim...</td>\n",
              "      <td>291</td>\n",
              "    </tr>\n",
              "    <tr>\n",
              "      <th>6</th>\n",
              "      <td>Operaciones</td>\n",
              "      <td>0.50</td>\n",
              "      <td>GPT 4</td>\n",
              "      <td>[El vehículo asignado tenía fallas mecánicas, ...</td>\n",
              "      <td>316</td>\n",
              "    </tr>\n",
              "    <tr>\n",
              "      <th>7</th>\n",
              "      <td>Operaciones</td>\n",
              "      <td>0.25</td>\n",
              "      <td>GPT 4</td>\n",
              "      <td>[El vehículo asignado tenía un problema con lo...</td>\n",
              "      <td>330</td>\n",
              "    </tr>\n",
              "    <tr>\n",
              "      <th>8</th>\n",
              "      <td>Operaciones</td>\n",
              "      <td>0.00</td>\n",
              "      <td>GPT 4</td>\n",
              "      <td>[El viaje estuvo mal planificado, tuve que esp...</td>\n",
              "      <td>299</td>\n",
              "    </tr>\n",
              "  </tbody>\n",
              "</table>\n",
              "</div>\n",
              "    <div class=\"colab-df-buttons\">\n",
              "\n",
              "  <div class=\"colab-df-container\">\n",
              "    <button class=\"colab-df-convert\" onclick=\"convertToInteractive('df-e7041aed-4f7f-42a3-9fe8-961181976fae')\"\n",
              "            title=\"Convert this dataframe to an interactive table.\"\n",
              "            style=\"display:none;\">\n",
              "\n",
              "  <svg xmlns=\"http://www.w3.org/2000/svg\" height=\"24px\" viewBox=\"0 -960 960 960\">\n",
              "    <path d=\"M120-120v-720h720v720H120Zm60-500h600v-160H180v160Zm220 220h160v-160H400v160Zm0 220h160v-160H400v160ZM180-400h160v-160H180v160Zm440 0h160v-160H620v160ZM180-180h160v-160H180v160Zm440 0h160v-160H620v160Z\"/>\n",
              "  </svg>\n",
              "    </button>\n",
              "\n",
              "  <style>\n",
              "    .colab-df-container {\n",
              "      display:flex;\n",
              "      gap: 12px;\n",
              "    }\n",
              "\n",
              "    .colab-df-convert {\n",
              "      background-color: #E8F0FE;\n",
              "      border: none;\n",
              "      border-radius: 50%;\n",
              "      cursor: pointer;\n",
              "      display: none;\n",
              "      fill: #1967D2;\n",
              "      height: 32px;\n",
              "      padding: 0 0 0 0;\n",
              "      width: 32px;\n",
              "    }\n",
              "\n",
              "    .colab-df-convert:hover {\n",
              "      background-color: #E2EBFA;\n",
              "      box-shadow: 0px 1px 2px rgba(60, 64, 67, 0.3), 0px 1px 3px 1px rgba(60, 64, 67, 0.15);\n",
              "      fill: #174EA6;\n",
              "    }\n",
              "\n",
              "    .colab-df-buttons div {\n",
              "      margin-bottom: 4px;\n",
              "    }\n",
              "\n",
              "    [theme=dark] .colab-df-convert {\n",
              "      background-color: #3B4455;\n",
              "      fill: #D2E3FC;\n",
              "    }\n",
              "\n",
              "    [theme=dark] .colab-df-convert:hover {\n",
              "      background-color: #434B5C;\n",
              "      box-shadow: 0px 1px 3px 1px rgba(0, 0, 0, 0.15);\n",
              "      filter: drop-shadow(0px 1px 2px rgba(0, 0, 0, 0.3));\n",
              "      fill: #FFFFFF;\n",
              "    }\n",
              "  </style>\n",
              "\n",
              "    <script>\n",
              "      const buttonEl =\n",
              "        document.querySelector('#df-e7041aed-4f7f-42a3-9fe8-961181976fae button.colab-df-convert');\n",
              "      buttonEl.style.display =\n",
              "        google.colab.kernel.accessAllowed ? 'block' : 'none';\n",
              "\n",
              "      async function convertToInteractive(key) {\n",
              "        const element = document.querySelector('#df-e7041aed-4f7f-42a3-9fe8-961181976fae');\n",
              "        const dataTable =\n",
              "          await google.colab.kernel.invokeFunction('convertToInteractive',\n",
              "                                                    [key], {});\n",
              "        if (!dataTable) return;\n",
              "\n",
              "        const docLinkHtml = 'Like what you see? Visit the ' +\n",
              "          '<a target=\"_blank\" href=https://colab.research.google.com/notebooks/data_table.ipynb>data table notebook</a>'\n",
              "          + ' to learn more about interactive tables.';\n",
              "        element.innerHTML = '';\n",
              "        dataTable['output_type'] = 'display_data';\n",
              "        await google.colab.output.renderOutput(dataTable, element);\n",
              "        const docLink = document.createElement('div');\n",
              "        docLink.innerHTML = docLinkHtml;\n",
              "        element.appendChild(docLink);\n",
              "      }\n",
              "    </script>\n",
              "  </div>\n",
              "\n",
              "\n",
              "<div id=\"df-7af0bccd-4917-4baf-9ba6-b00e1fcba20b\">\n",
              "  <button class=\"colab-df-quickchart\" onclick=\"quickchart('df-7af0bccd-4917-4baf-9ba6-b00e1fcba20b')\"\n",
              "            title=\"Suggest charts\"\n",
              "            style=\"display:none;\">\n",
              "\n",
              "<svg xmlns=\"http://www.w3.org/2000/svg\" height=\"24px\"viewBox=\"0 0 24 24\"\n",
              "     width=\"24px\">\n",
              "    <g>\n",
              "        <path d=\"M19 3H5c-1.1 0-2 .9-2 2v14c0 1.1.9 2 2 2h14c1.1 0 2-.9 2-2V5c0-1.1-.9-2-2-2zM9 17H7v-7h2v7zm4 0h-2V7h2v10zm4 0h-2v-4h2v4z\"/>\n",
              "    </g>\n",
              "</svg>\n",
              "  </button>\n",
              "\n",
              "<style>\n",
              "  .colab-df-quickchart {\n",
              "      --bg-color: #E8F0FE;\n",
              "      --fill-color: #1967D2;\n",
              "      --hover-bg-color: #E2EBFA;\n",
              "      --hover-fill-color: #174EA6;\n",
              "      --disabled-fill-color: #AAA;\n",
              "      --disabled-bg-color: #DDD;\n",
              "  }\n",
              "\n",
              "  [theme=dark] .colab-df-quickchart {\n",
              "      --bg-color: #3B4455;\n",
              "      --fill-color: #D2E3FC;\n",
              "      --hover-bg-color: #434B5C;\n",
              "      --hover-fill-color: #FFFFFF;\n",
              "      --disabled-bg-color: #3B4455;\n",
              "      --disabled-fill-color: #666;\n",
              "  }\n",
              "\n",
              "  .colab-df-quickchart {\n",
              "    background-color: var(--bg-color);\n",
              "    border: none;\n",
              "    border-radius: 50%;\n",
              "    cursor: pointer;\n",
              "    display: none;\n",
              "    fill: var(--fill-color);\n",
              "    height: 32px;\n",
              "    padding: 0;\n",
              "    width: 32px;\n",
              "  }\n",
              "\n",
              "  .colab-df-quickchart:hover {\n",
              "    background-color: var(--hover-bg-color);\n",
              "    box-shadow: 0 1px 2px rgba(60, 64, 67, 0.3), 0 1px 3px 1px rgba(60, 64, 67, 0.15);\n",
              "    fill: var(--button-hover-fill-color);\n",
              "  }\n",
              "\n",
              "  .colab-df-quickchart-complete:disabled,\n",
              "  .colab-df-quickchart-complete:disabled:hover {\n",
              "    background-color: var(--disabled-bg-color);\n",
              "    fill: var(--disabled-fill-color);\n",
              "    box-shadow: none;\n",
              "  }\n",
              "\n",
              "  .colab-df-spinner {\n",
              "    border: 2px solid var(--fill-color);\n",
              "    border-color: transparent;\n",
              "    border-bottom-color: var(--fill-color);\n",
              "    animation:\n",
              "      spin 1s steps(1) infinite;\n",
              "  }\n",
              "\n",
              "  @keyframes spin {\n",
              "    0% {\n",
              "      border-color: transparent;\n",
              "      border-bottom-color: var(--fill-color);\n",
              "      border-left-color: var(--fill-color);\n",
              "    }\n",
              "    20% {\n",
              "      border-color: transparent;\n",
              "      border-left-color: var(--fill-color);\n",
              "      border-top-color: var(--fill-color);\n",
              "    }\n",
              "    30% {\n",
              "      border-color: transparent;\n",
              "      border-left-color: var(--fill-color);\n",
              "      border-top-color: var(--fill-color);\n",
              "      border-right-color: var(--fill-color);\n",
              "    }\n",
              "    40% {\n",
              "      border-color: transparent;\n",
              "      border-right-color: var(--fill-color);\n",
              "      border-top-color: var(--fill-color);\n",
              "    }\n",
              "    60% {\n",
              "      border-color: transparent;\n",
              "      border-right-color: var(--fill-color);\n",
              "    }\n",
              "    80% {\n",
              "      border-color: transparent;\n",
              "      border-right-color: var(--fill-color);\n",
              "      border-bottom-color: var(--fill-color);\n",
              "    }\n",
              "    90% {\n",
              "      border-color: transparent;\n",
              "      border-bottom-color: var(--fill-color);\n",
              "    }\n",
              "  }\n",
              "</style>\n",
              "\n",
              "  <script>\n",
              "    async function quickchart(key) {\n",
              "      const quickchartButtonEl =\n",
              "        document.querySelector('#' + key + ' button');\n",
              "      quickchartButtonEl.disabled = true;  // To prevent multiple clicks.\n",
              "      quickchartButtonEl.classList.add('colab-df-spinner');\n",
              "      try {\n",
              "        const charts = await google.colab.kernel.invokeFunction(\n",
              "            'suggestCharts', [key], {});\n",
              "      } catch (error) {\n",
              "        console.error('Error during call to suggestCharts:', error);\n",
              "      }\n",
              "      quickchartButtonEl.classList.remove('colab-df-spinner');\n",
              "      quickchartButtonEl.classList.add('colab-df-quickchart-complete');\n",
              "    }\n",
              "    (() => {\n",
              "      let quickchartButtonEl =\n",
              "        document.querySelector('#df-7af0bccd-4917-4baf-9ba6-b00e1fcba20b button');\n",
              "      quickchartButtonEl.style.display =\n",
              "        google.colab.kernel.accessAllowed ? 'block' : 'none';\n",
              "    })();\n",
              "  </script>\n",
              "</div>\n",
              "\n",
              "  <div id=\"id_01e23017-24c2-46eb-b7c4-30b63aae4ffc\">\n",
              "    <style>\n",
              "      .colab-df-generate {\n",
              "        background-color: #E8F0FE;\n",
              "        border: none;\n",
              "        border-radius: 50%;\n",
              "        cursor: pointer;\n",
              "        display: none;\n",
              "        fill: #1967D2;\n",
              "        height: 32px;\n",
              "        padding: 0 0 0 0;\n",
              "        width: 32px;\n",
              "      }\n",
              "\n",
              "      .colab-df-generate:hover {\n",
              "        background-color: #E2EBFA;\n",
              "        box-shadow: 0px 1px 2px rgba(60, 64, 67, 0.3), 0px 1px 3px 1px rgba(60, 64, 67, 0.15);\n",
              "        fill: #174EA6;\n",
              "      }\n",
              "\n",
              "      [theme=dark] .colab-df-generate {\n",
              "        background-color: #3B4455;\n",
              "        fill: #D2E3FC;\n",
              "      }\n",
              "\n",
              "      [theme=dark] .colab-df-generate:hover {\n",
              "        background-color: #434B5C;\n",
              "        box-shadow: 0px 1px 3px 1px rgba(0, 0, 0, 0.15);\n",
              "        filter: drop-shadow(0px 1px 2px rgba(0, 0, 0, 0.3));\n",
              "        fill: #FFFFFF;\n",
              "      }\n",
              "    </style>\n",
              "    <button class=\"colab-df-generate\" onclick=\"generateWithVariable('comentarios')\"\n",
              "            title=\"Generate code using this dataframe.\"\n",
              "            style=\"display:none;\">\n",
              "\n",
              "  <svg xmlns=\"http://www.w3.org/2000/svg\" height=\"24px\"viewBox=\"0 0 24 24\"\n",
              "       width=\"24px\">\n",
              "    <path d=\"M7,19H8.4L18.45,9,17,7.55,7,17.6ZM5,21V16.75L18.45,3.32a2,2,0,0,1,2.83,0l1.4,1.43a1.91,1.91,0,0,1,.58,1.4,1.91,1.91,0,0,1-.58,1.4L9.25,21ZM18.45,9,17,7.55Zm-12,3A5.31,5.31,0,0,0,4.9,8.1,5.31,5.31,0,0,0,1,6.5,5.31,5.31,0,0,0,4.9,4.9,5.31,5.31,0,0,0,6.5,1,5.31,5.31,0,0,0,8.1,4.9,5.31,5.31,0,0,0,12,6.5,5.46,5.46,0,0,0,6.5,12Z\"/>\n",
              "  </svg>\n",
              "    </button>\n",
              "    <script>\n",
              "      (() => {\n",
              "      const buttonEl =\n",
              "        document.querySelector('#id_01e23017-24c2-46eb-b7c4-30b63aae4ffc button.colab-df-generate');\n",
              "      buttonEl.style.display =\n",
              "        google.colab.kernel.accessAllowed ? 'block' : 'none';\n",
              "\n",
              "      buttonEl.onclick = () => {\n",
              "        google.colab.notebook.generateWithVariable('comentarios');\n",
              "      }\n",
              "      })();\n",
              "    </script>\n",
              "  </div>\n",
              "\n",
              "    </div>\n",
              "  </div>\n"
            ],
            "application/vnd.google.colaboratory.intrinsic+json": {
              "type": "dataframe",
              "variable_name": "comentarios",
              "summary": "{\n  \"name\": \"comentarios\",\n  \"rows\": 9,\n  \"fields\": [\n    {\n      \"column\": \"Area\",\n      \"properties\": {\n        \"dtype\": \"category\",\n        \"num_unique_values\": 3,\n        \"samples\": [\n          \"Finanzas\",\n          \"RH\",\n          \"Operaciones\"\n        ],\n        \"semantic_type\": \"\",\n        \"description\": \"\"\n      }\n    },\n    {\n      \"column\": \"Positividad\",\n      \"properties\": {\n        \"dtype\": \"number\",\n        \"std\": 0.21650635094610965,\n        \"min\": 0.0,\n        \"max\": 0.5,\n        \"num_unique_values\": 3,\n        \"samples\": [\n          0.5,\n          0.25,\n          0.0\n        ],\n        \"semantic_type\": \"\",\n        \"description\": \"\"\n      }\n    },\n    {\n      \"column\": \"Modelo\",\n      \"properties\": {\n        \"dtype\": \"category\",\n        \"num_unique_values\": 1,\n        \"samples\": [\n          \"GPT 4\"\n        ],\n        \"semantic_type\": \"\",\n        \"description\": \"\"\n      }\n    },\n    {\n      \"column\": \"Comentarios\",\n      \"properties\": {\n        \"dtype\": \"object\",\n        \"semantic_type\": \"\",\n        \"description\": \"\"\n      }\n    },\n    {\n      \"column\": \"longitud\",\n      \"properties\": {\n        \"dtype\": \"number\",\n        \"std\": 34,\n        \"min\": 225,\n        \"max\": 335,\n        \"num_unique_values\": 9,\n        \"samples\": [\n          330\n        ],\n        \"semantic_type\": \"\",\n        \"description\": \"\"\n      }\n    }\n  ]\n}"
            }
          },
          "metadata": {},
          "execution_count": 62
        }
      ]
    },
    {
      "cell_type": "code",
      "source": [],
      "metadata": {
        "id": "m7izuM6mSMR6"
      },
      "execution_count": null,
      "outputs": []
    },
    {
      "cell_type": "code",
      "source": [
        "!pip install pyspellchecker"
      ],
      "metadata": {
        "colab": {
          "base_uri": "https://localhost:8080/"
        },
        "id": "bhJ66cZye9kN",
        "outputId": "42320a43-3833-4ef9-aac3-8f869a894cfd"
      },
      "execution_count": 4,
      "outputs": [
        {
          "output_type": "stream",
          "name": "stdout",
          "text": [
            "Collecting pyspellchecker\n",
            "  Downloading pyspellchecker-0.8.2-py3-none-any.whl.metadata (9.4 kB)\n",
            "Downloading pyspellchecker-0.8.2-py3-none-any.whl (7.1 MB)\n",
            "\u001b[2K   \u001b[90m━━━━━━━━━━━━━━━━━━━━━━━━━━━━━━━━━━━━━━━━\u001b[0m \u001b[32m7.1/7.1 MB\u001b[0m \u001b[31m40.6 MB/s\u001b[0m eta \u001b[36m0:00:00\u001b[0m\n",
            "\u001b[?25hInstalling collected packages: pyspellchecker\n",
            "Successfully installed pyspellchecker-0.8.2\n"
          ]
        }
      ]
    },
    {
      "cell_type": "code",
      "source": [
        "from spellchecker import SpellChecker\n",
        "spanish = SpellChecker(language='es')\n",
        "\n",
        "comentario = finanzas_05[-1]\n",
        "print(comentario.split())\n",
        "\n",
        "misspelled = spanish.unknown(comentario.split())\n",
        "\n",
        "for word in misspelled:\n",
        "    # Get the one `most likely` answer\n",
        "    print(spanish.correction(word))\n",
        "\n",
        "    # Get a list of `likely` options\n",
        "    print(spanish.candidates(word))"
      ],
      "metadata": {
        "colab": {
          "base_uri": "https://localhost:8080/"
        },
        "id": "ODQEuil5fJvc",
        "outputId": "54d93f8b-0f27-4cdb-cb77-cf5513195d81"
      },
      "execution_count": 23,
      "outputs": [
        {
          "output_type": "stream",
          "name": "stdout",
          "text": [
            "['No', 'puedo', 'hacer', 'el', 'depósito', 'Repeat', 'Diez.']\n",
            "diez\n",
            "{'diez'}\n",
            "repente\n",
            "{'repeso', 'reptar', 'repente', 'repleta', 'repeor', 'repelo', 'receta', 'ropeta', 'repelar', 'repesar'}\n",
            "quedo\n",
            "{'ruedo', 'quedo', 'puado', 'pedo'}\n"
          ]
        }
      ]
    },
    {
      "cell_type": "code",
      "execution_count": null,
      "metadata": {
        "colab": {
          "base_uri": "https://localhost:8080/"
        },
        "id": "XhQ9ZaW165XZ",
        "outputId": "1360bd1a-dbe1-4207-f94e-4e6980fd8b0f"
      },
      "outputs": [
        {
          "output_type": "stream",
          "name": "stdout",
          "text": [
            "|   Edad | Fecha contratacion   |   Años de experiencia |   Viajes realizados |   Km totales recorridos |   Tiempo de inactividad total |   Incidentes de peligro |\n",
            "|-------:|:---------------------|----------------------:|--------------------:|------------------------:|------------------------------:|------------------------:|\n",
            "|     35 | 2010-04-27 00:00:00  |                    10 |                4381 |                 2475443 |                        235338 |                       1 |\n",
            "|     44 | 2000-03-29 00:00:00  |                    15 |                5901 |                 3244435 |                        206697 |                       3 |\n",
            "|     43 | 2023-06-03 00:00:00  |                     0 |                 504 |                  198166 |                         31401 |                       0 |\n",
            "|     50 | 2017-05-04 00:00:00  |                    16 |                1898 |                 1109687 |                         92920 |                       0 |\n",
            "|     32 | 2020-06-11 00:00:00  |                     1 |                1054 |                  817450 |                         49733 |                       0 |\n",
            "<class 'pandas.core.frame.DataFrame'>\n",
            "RangeIndex: 4102 entries, 0 to 4101\n",
            "Data columns (total 7 columns):\n",
            " #   Column                       Non-Null Count  Dtype         \n",
            "---  ------                       --------------  -----         \n",
            " 0   Edad                         4102 non-null   int64         \n",
            " 1   Fecha contratacion           4102 non-null   datetime64[ns]\n",
            " 2   Años de experiencia          4102 non-null   int64         \n",
            " 3   Viajes realizados            4102 non-null   int64         \n",
            " 4   Km totales recorridos        4102 non-null   int64         \n",
            " 5   Tiempo de inactividad total  4102 non-null   int64         \n",
            " 6   Incidentes de peligro        4102 non-null   int64         \n",
            "dtypes: datetime64[ns](1), int64(6)\n",
            "memory usage: 224.5 KB\n",
            "None\n"
          ]
        }
      ],
      "source": [
        "print(df.head().to_markdown(index=False))\n",
        "print(df.info())"
      ]
    },
    {
      "cell_type": "code",
      "execution_count": null,
      "metadata": {
        "colab": {
          "base_uri": "https://localhost:8080/",
          "height": 447
        },
        "id": "mtvB7dcSphIj",
        "outputId": "c82d121b-7875-44e4-ef26-30e9ef3c380d"
      },
      "outputs": [
        {
          "output_type": "execute_result",
          "data": {
            "text/plain": [
              "<Axes: ylabel='Frequency'>"
            ]
          },
          "metadata": {},
          "execution_count": 33
        },
        {
          "output_type": "display_data",
          "data": {
            "text/plain": [
              "<Figure size 640x480 with 1 Axes>"
            ],
            "image/png": "[encoded data removed]"
          },
          "metadata": {}
        }
      ],
      "source": [
        "df['Edad'].plot(kind='hist', bins=20, density=True, color='skyblue', edgecolor='black', alpha=0.7)"
      ]
    },
    {
      "cell_type": "code",
      "source": [],
      "metadata": {
        "id": "FQ_YaMaCcfJL"
      },
      "execution_count": null,
      "outputs": []
    },
    {
      "cell_type": "markdown",
      "source": [],
      "metadata": {
        "id": "3nc_7ANJcbY8"
      }
    }
  ],
  "metadata": {
    "colab": {
      "provenance": []
    },
    "kernelspec": {
      "display_name": "Python 3",
      "name": "python3"
    },
    "language_info": {
      "name": "python"
    }
  },
  "nbformat": 4,
  "nbformat_minor": 0
}